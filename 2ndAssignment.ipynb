{
 "cells": [
  {
   "cell_type": "code",
   "execution_count": 1,
   "metadata": {},
   "outputs": [
    {
     "name": "stdout",
     "output_type": "stream",
     "text": [
      "Enter Here Number One : 5\n",
      "Enter Here Number Two : 4\n",
      "Number {NumberOne} is not Completely divisible by {num2}\n"
     ]
    }
   ],
   "source": [
    "num1=int(input(\"Enter Here Number One : \"))\n",
    "num2=int(input(\"Enter Here Number Two : \"))\n",
    "result = num1%num2\n",
    "if result == 0 :\n",
    "    print(\"NUmber {num1} is completely divisible by{num2}\")\n",
    "else:\n",
    "    print (\"Number {NumberOne} is not Completely divisible by {num2}\")\n",
    "        "
   ]
  },
  {
   "cell_type": "code",
   "execution_count": 1,
   "metadata": {},
   "outputs": [
    {
     "name": "stdout",
     "output_type": "stream",
     "text": [
      "Enter Here Your Name : ..Hasnain\n",
      "How Many Copies Do You Want ..?2\n",
      "HasnainHasnain\n"
     ]
    }
   ],
   "source": [
    "Name=input(\"Enter Here Your Name : ..\")\n",
    "Copies = int(input(\"How Many Copies Do You Want ..?\"))\n",
    "Copy= Name * Copies\n",
    "print (f\"{Copy}\")\n"
   ]
  },
  {
   "cell_type": "code",
   "execution_count": 1,
   "metadata": {},
   "outputs": [
    {
     "name": "stdout",
     "output_type": "stream",
     "text": [
      "Enter Any Character :w\n",
      "Letter w is not Vowel\n"
     ]
    }
   ],
   "source": [
    "Vowel = ['a','e','i','o','u']\n",
    "Alphabet = input (f\"Enter Any Character :\")\n",
    "if Alphabet in Vowel :\n",
    "    print (f\"Letter {Alphabet} is Vowel\")\n",
    "else :\n",
    "    print (f\"Letter {Alphabet} is not Vowel\")\n",
    "    "
   ]
  },
  {
   "cell_type": "code",
   "execution_count": 3,
   "metadata": {},
   "outputs": [
    {
     "name": "stdout",
     "output_type": "stream",
     "text": [
      "1\n",
      "3\n",
      "5\n",
      "7\n",
      "9\n",
      "11\n",
      "13\n",
      "15\n",
      "17\n",
      "19\n"
     ]
    }
   ],
   "source": [
    "for odd_Number in range (1,20,2):\n",
    "    print (f\"{odd_Number}\")"
   ]
  },
  {
   "cell_type": "code",
   "execution_count": 11,
   "metadata": {},
   "outputs": [
    {
     "name": "stdout",
     "output_type": "stream",
     "text": [
      "['Biryani', 'Burger', 'Pizza'] are first three items ..\n",
      "['Pulao', 'Fries', 'Paratha'] are first three items ..\n",
      "['Tikka', 'Korma', 'Meggi'] are first three items ..\n"
     ]
    }
   ],
   "source": [
    "Foods =['Biryani','Burger','Pizza','Pulao','Fries','Paratha','Tikka','Korma','Meggi']\n",
    "print (f\"{Foods[0:3]} are first three items ..\")\n",
    "print (f\"{Foods[3:6]} are first three items ..\")\n",
    "print (f\"{Foods[6:9]} are first three items ..\")"
   ]
  },
  {
   "cell_type": "code",
   "execution_count": 14,
   "metadata": {},
   "outputs": [
    {
     "name": "stdout",
     "output_type": "stream",
     "text": [
      "Ente Here Words to known its antonym :Back\n",
      "Not in the List !!\n"
     ]
    }
   ],
   "source": [
    "# class task\n",
    "TaskData={\n",
    "    'Left':'Right',\n",
    "    'Down':'Up',\n",
    "    'Forward':'Backward',\n",
    "    'Right':'Left',\n",
    "    'Up':'Down',\n",
    "    'Backward':'Forward'\n",
    "}\n",
    "a=input(\"Ente Here Words to known its antonym :\")\n",
    "if a in TaskData:\n",
    "    print(TaskData[a.title()])\n",
    "else:\n",
    "    print(\"Not in the List !!\")"
   ]
  },
  {
   "cell_type": "code",
   "execution_count": null,
   "metadata": {},
   "outputs": [],
   "source": []
  }
 ],
 "metadata": {
  "kernelspec": {
   "display_name": "Python 3",
   "language": "python",
   "name": "python3"
  },
  "language_info": {
   "codemirror_mode": {
    "name": "ipython",
    "version": 3
   },
   "file_extension": ".py",
   "mimetype": "text/x-python",
   "name": "python",
   "nbconvert_exporter": "python",
   "pygments_lexer": "ipython3",
   "version": "3.7.4"
  }
 },
 "nbformat": 4,
 "nbformat_minor": 2
}
