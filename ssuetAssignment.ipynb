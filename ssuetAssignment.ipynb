{
 "cells": [
  {
   "cell_type": "code",
   "execution_count": 2,
   "metadata": {},
   "outputs": [
    {
     "name": "stdout",
     "output_type": "stream",
     "text": [
      "Name :  Hasnain Ahmed\n",
      "Phone :  0345-2889379\n",
      "Email :  ha990352@gmail.com\n",
      "Address :  House 55 sale town\n",
      "Gender :  Male\n",
      "Height :  5.10\n",
      "Age :  19\n",
      "Qualification :  Intermediate\n"
     ]
    }
   ],
   "source": [
    "name=\"Hasnain Ahmed\"\n",
    "phone=\"0345-2889379\"\n",
    "email=\"ha990352@gmail.com\"\n",
    "address=\"House 55 sale town\"\n",
    "gender=\"Male\"\n",
    "height=\"5.10\"\n",
    "age=19\n",
    "qualification=\"Intermediate\"\n",
    "\n",
    "print(\"Name : \",name)\n",
    "print(\"Phone : \",phone)\n",
    "print(\"Email : \",email)\n",
    "print(\"Address : \",address)\n",
    "print(\"Gender : \",gender)\n",
    "print(\"Height : \",height)\n",
    "print(\"Age : \",age)\n",
    "print(\"Qualification : \",qualification)\n",
    "\n"
   ]
  },
  {
   "cell_type": "code",
   "execution_count": null,
   "metadata": {},
   "outputs": [],
   "source": []
  }
 ],
 "metadata": {
  "kernelspec": {
   "display_name": "Python 3",
   "language": "python",
   "name": "python3"
  },
  "language_info": {
   "codemirror_mode": {
    "name": "ipython",
    "version": 3
   },
   "file_extension": ".py",
   "mimetype": "text/x-python",
   "name": "python",
   "nbconvert_exporter": "python",
   "pygments_lexer": "ipython3",
   "version": "3.7.4"
  }
 },
 "nbformat": 4,
 "nbformat_minor": 2
}
